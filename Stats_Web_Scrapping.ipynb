{
 "cells": [
  {
   "cell_type": "code",
   "execution_count": 1,
   "metadata": {},
   "outputs": [],
   "source": [
    "from utils import get_ESPN, get_dd, get_Hollinger"
   ]
  },
  {
   "cell_type": "markdown",
   "metadata": {},
   "source": [
    "### Get data starting from 2012-2013 season\n",
    "- traditional data\n",
    "- Double-Doubles\n",
    "- Hollinger statistics"
   ]
  },
  {
   "cell_type": "code",
   "execution_count": 2,
   "metadata": {},
   "outputs": [
    {
     "name": "stdout",
     "output_type": "stream",
     "text": [
      "========================================\n",
      "Getting statistics from 2012-2013 season\n",
      "\n",
      "change J.J. Hickson -> JJ Hickson\n",
      "change J.R. Smith -> JR Smith\n",
      "change Gustavo Ayon -> Gustavo Alfonso Ayon\n",
      "change Gerald Henderson Jr. -> Gerald Henderson\n",
      "change Mike Dunleavy Jr. -> Mike Dunleavy\n",
      "change Viacheslav Kravtsov -> Slava Kravtsov\n",
      "change Nene  -> Nene\n",
      "========================================\n",
      "Getting statistics from 2013-2014 season\n",
      "\n",
      "change J.J. Hickson -> JJ Hickson\n",
      "change Gustavo Ayon -> Gustavo Alfonso Ayon\n",
      "change J.R. Smith -> JR Smith\n",
      "change Nene  -> Nene\n",
      "========================================\n",
      "Getting statistics from 2014-2015 season\n",
      "\n",
      "change J.J. Hickson -> JJ Hickson\n",
      "change Marcus Morris -> Marcus Morris Sr.\n",
      "change Gerald Henderson Jr. -> Gerald Henderson\n",
      "change Robbie Hummel -> Robbie John Hummel\n",
      "change Jerome Jordan -> Jerome Adolphus Jordan\n",
      "change K.J. McDaniels -> KJ McDaniels\n",
      "change Nene  -> Nene\n",
      "========================================\n",
      "Getting statistics from 2015-2016 season\n",
      "\n",
      "change Otto Porter -> Otto Porter Jr.\n",
      "change Marcus Morris -> Marcus Morris Sr.\n",
      "change J.J. Hickson -> JJ Hickson\n",
      "change C.J. McCollum -> CJ McCollum\n",
      "change J.R. Smith -> JR Smith\n",
      "change Nene  -> Nene\n",
      "========================================\n",
      "Getting statistics from 2016-2017 season\n",
      "\n",
      "change Otto Porter -> Otto Porter Jr.\n",
      "change Marcus Morris -> Marcus Morris Sr.\n",
      "change Juan Hernangomez -> Juancho Hernangomez\n",
      "change C.J. McCollum -> CJ McCollum\n",
      "change Nene  -> Nene\n",
      "========================================\n",
      "Getting statistics from 2017-2018 season\n",
      "\n",
      "change Otto Porter -> Otto Porter Jr.\n",
      "change Marcus Morris -> Marcus Morris Sr.\n",
      "change C.J. McCollum -> CJ McCollum\n",
      "change Nene  -> Nene\n",
      "========================================\n",
      "Getting statistics from 2018-2019 season\n",
      "\n",
      "change Otto Porter -> Otto Porter Jr.\n",
      "change Marcus Morris -> Marcus Morris Sr.\n",
      "change Juan Hernangomez -> Juancho Hernangomez\n",
      "change Kevin Knox -> Kevin Knox II\n",
      "change C.J. McCollum -> CJ McCollum\n",
      "change J.J. Redick -> JJ Redick\n",
      "change Nene  -> Nene\n",
      "========================================\n",
      "Getting statistics from 2019-2020 season\n",
      "\n",
      "change Juan Hernangomez -> Juancho Hernangomez\n",
      "change C.J. McCollum -> CJ McCollum\n",
      "change Marcus Morris -> Marcus Morris Sr.\n",
      "change Harry Giles -> Harry Giles III\n",
      "change Danuel House -> Danuel House Jr.\n"
     ]
    }
   ],
   "source": [
    "for season in range(2013,2021):\n",
    "    print(\"=\"*40)\n",
    "    print(f\"Getting statistics from {season-1}-{season} season\\n\")\n",
    "    # ESPN\n",
    "    Data = get_ESPN(season)\n",
    "    Data.to_csv(f'data/{season}_season_stats_traditional.csv', encoding='utf-8', index=False)\n",
    "    # will align all names to ESPN\n",
    "    Names_espn = Data['Name'].values\n",
    "    # double-double\n",
    "    data = get_dd(season, Names_espn)\n",
    "    data.to_csv(f'data/{season}_season_stats_dd.csv', encoding='utf-8', index=False)\n",
    "    # Hollinger\n",
    "    Data = get_Hollinger(season, Names_espn)\n",
    "    Data.to_csv(f'data/{season}_season_stats_Hollinger.csv', encoding='utf-8', index=False)"
   ]
  },
  {
   "cell_type": "code",
   "execution_count": null,
   "metadata": {},
   "outputs": [],
   "source": []
  }
 ],
 "metadata": {
  "kernelspec": {
   "display_name": "Python 3",
   "language": "python",
   "name": "python3"
  },
  "language_info": {
   "codemirror_mode": {
    "name": "ipython",
    "version": 3
   },
   "file_extension": ".py",
   "mimetype": "text/x-python",
   "name": "python",
   "nbconvert_exporter": "python",
   "pygments_lexer": "ipython3",
   "version": "3.7.1"
  }
 },
 "nbformat": 4,
 "nbformat_minor": 4
}
